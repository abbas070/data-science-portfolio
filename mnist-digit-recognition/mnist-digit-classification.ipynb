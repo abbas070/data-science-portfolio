{
  "nbformat": 4,
  "nbformat_minor": 0,
  "metadata": {
    "colab": {
      "name": "mnist-digit-classification.ipynb",
      "provenance": [],
      "authorship_tag": "ABX9TyMzsUrKu+Ig4hObDE5EQifR",
      "include_colab_link": true
    },
    "kernelspec": {
      "name": "python3",
      "display_name": "Python 3"
    },
    "language_info": {
      "name": "python"
    },
    "accelerator": "GPU"
  },
  "cells": [
    {
      "cell_type": "markdown",
      "metadata": {
        "id": "view-in-github",
        "colab_type": "text"
      },
      "source": [
        "<a href=\"https://colab.research.google.com/github/abbas070/MITFutureMakers/blob/main/mnist-digit-classification.ipynb\" target=\"_parent\"><img src=\"https://colab.research.google.com/assets/colab-badge.svg\" alt=\"Open In Colab\"/></a>"
      ]
    },
    {
      "cell_type": "markdown",
      "source": [
        "Model accuracy: 99.27%\n",
        "\n",
        "The dataset can be found here: http://yann.lecun.com/exdb/mnist/.\n",
        "\n",
        "You can now draw your own numbers (as many digits as you want) and the model will identify them, all without having to leave the notebook. The prediction works very well."
      ],
      "metadata": {
        "id": "KZG3shxYl6Nk"
      }
    },
    {
      "cell_type": "code",
      "source": [
        "import cv2\n",
        "import imutils\n",
        "import numpy as np\n",
        "import seaborn as sns\n",
        "import tensorflow as tf\n",
        "import matplotlib.pyplot as plt\n",
        "\n",
        "from base64 import b64decode\n",
        "from imutils import contours\n",
        "from google.colab.output import eval_js\n",
        "from IPython.display import HTML, Image\n",
        "from google.colab.patches import cv2_imshow\n",
        "\n",
        "from keras.datasets import mnist\n",
        "from tensorflow.keras.optimizers import SGD\n",
        "from keras.models import Sequential, load_model\n",
        "from keras.utils.np_utils import to_categorical\n",
        "from keras.preprocessing.image import ImageDataGenerator\n",
        "from keras.layers import Dense, Dropout, Flatten, Conv2D, MaxPool2D, BatchNormalization\n",
        "from sklearn.metrics import confusion_matrix, precision_score, recall_score, f1_score, cohen_kappa_score"
      ],
      "metadata": {
        "id": "cJ5uK5HImGKq"
      },
      "execution_count": 2,
      "outputs": []
    },
    {
      "cell_type": "code",
      "source": [
        "# Load dataset\n",
        "(X_train, y_train), (X_test, y_test) = mnist.load_data()\n",
        "\n",
        "print(X_train.shape, y_train.shape)\n",
        "print(X_test.shape, y_test.shape)"
      ],
      "metadata": {
        "colab": {
          "base_uri": "https://localhost:8080/"
        },
        "id": "BDiGGVacmXJl",
        "outputId": "4df1ba07-a4ba-407e-85e3-67dd6350031f"
      },
      "execution_count": 3,
      "outputs": [
        {
          "output_type": "stream",
          "name": "stdout",
          "text": [
            "Downloading data from https://storage.googleapis.com/tensorflow/tf-keras-datasets/mnist.npz\n",
            "11493376/11490434 [==============================] - 0s 0us/step\n",
            "11501568/11490434 [==============================] - 0s 0us/step\n",
            "(60000, 28, 28) (60000,)\n",
            "(10000, 28, 28) (10000,)\n"
          ]
        }
      ]
    },
    {
      "cell_type": "code",
      "source": [
        "# Plot first few images\n",
        "img_index = 0\n",
        "f, axarr = plt.subplots(4, 4)\n",
        "\n",
        "for x, y in np.ndindex((4, 4)):\n",
        "  axarr[x,y].imshow(X_train[img_index], cmap=plt.get_cmap('gray'))\n",
        "  axarr[x,y].axis(\"off\")\n",
        "  img_index += 1\n",
        " \n",
        "plt.show()"
      ],
      "metadata": {
        "colab": {
          "base_uri": "https://localhost:8080/",
          "height": 248
        },
        "id": "brU1jwu2mZGS",
        "outputId": "b585099e-0269-45d1-8f11-a06f212e245d"
      },
      "execution_count": 4,
      "outputs": [
        {
          "output_type": "display_data",
          "data": {
            "text/plain": [
              "<Figure size 432x288 with 16 Axes>"
            ],
            "image/png": "[encoded data removed]"
          },
          "metadata": {
            "needs_background": "light"
          }
        }
      ]
    },
    {
      "cell_type": "code",
      "source": [
        "# visualize number of digits classes\n",
        "plt.figure(figsize=(15,7))\n",
        "g = sns.countplot(y_train, palette=\"icefire\")\n",
        "plt.title(\"Number of digit classes\")\n",
        "# y_train.value_counts()"
      ],
      "metadata": {
        "colab": {
          "base_uri": "https://localhost:8080/",
          "height": 516
        },
        "id": "DqE32Wpjmb37",
        "outputId": "caa4f46d-9402-4b63-a6fe-4abf78f42178"
      },
      "execution_count": 5,
      "outputs": [
        {
          "output_type": "stream",
          "name": "stderr",
          "text": [
            "/usr/local/lib/python3.7/dist-packages/seaborn/_decorators.py:43: FutureWarning: Pass the following variable as a keyword arg: x. From version 0.12, the only valid positional argument will be `data`, and passing other arguments without an explicit keyword will result in an error or misinterpretation.\n",
            "  FutureWarning\n"
          ]
        },
        {
          "output_type": "execute_result",
          "data": {
            "text/plain": [
              "Text(0.5, 1.0, 'Number of digit classes')"
            ]
          },
          "metadata": {},
          "execution_count": 5
        },
        {
          "output_type": "display_data",
          "data": {
            "text/plain": [
              "<Figure size 1080x504 with 1 Axes>"
            ],
            "image/png": "[encoded data removed]"
          },
          "metadata": {
            "needs_background": "light"
          }
        }
      ]
    },
    {
      "cell_type": "code",
      "source": [
        "# Normalize pixel values\n",
        "X_train = X_train / 255.0\n",
        "X_test = X_test / 255.0"
      ],
      "metadata": {
        "id": "CvtOA6cVmcvS"
      },
      "execution_count": 6,
      "outputs": []
    },
    {
      "cell_type": "code",
      "source": [
        "# Reshape data\n",
        "X_train = X_train.reshape((X_train.shape[0], 28, 28, 1))\n",
        "X_test = X_test.reshape((X_test.shape[0], 28, 28, 1))\n",
        "\n",
        "print(X_train.shape, X_test.shape)"
      ],
      "metadata": {
        "colab": {
          "base_uri": "https://localhost:8080/"
        },
        "id": "nl3r2wLcmeYQ",
        "outputId": "d67f693f-2e0d-48a3-91fb-bc8bf4601760"
      },
      "execution_count": 7,
      "outputs": [
        {
          "output_type": "stream",
          "name": "stdout",
          "text": [
            "(60000, 28, 28, 1) (10000, 28, 28, 1)\n"
          ]
        }
      ]
    },
    {
      "cell_type": "code",
      "source": [
        "# Use one hot encoding to transform the labels to data that the model can understand\n",
        "y_train = to_categorical(y_train)\n",
        "y_test = to_categorical(y_test)\n",
        "\n",
        "print(y_train.shape, y_test.shape)"
      ],
      "metadata": {
        "colab": {
          "base_uri": "https://localhost:8080/"
        },
        "id": "nvEnZ1E1mfkr",
        "outputId": "c266959a-8657-4da8-c1f7-284fee71c75c"
      },
      "execution_count": 8,
      "outputs": [
        {
          "output_type": "stream",
          "name": "stdout",
          "text": [
            "(60000, 10) (10000, 10)\n"
          ]
        }
      ]
    },
    {
      "cell_type": "code",
      "source": [
        "# Data augmentation\n",
        "datagen = ImageDataGenerator(\n",
        "        featurewise_center=False,  # set input mean to 0 over the dataset\n",
        "        samplewise_center=False,  # set each sample mean to 0\n",
        "        featurewise_std_normalization=False,  # divide inputs by std of the dataset\n",
        "        samplewise_std_normalization=False,  # divide each input by its std\n",
        "        zca_whitening=False,  # dimesion reduction\n",
        "        rotation_range=5,  # randomly rotate images in the range 5 degrees\n",
        "        zoom_range = 0.1, # Randomly zoom image 10%\n",
        "        width_shift_range=0.1,  # randomly shift images horizontally 10%\n",
        "        height_shift_range=0.1,  # randomly shift images vertically 10%\n",
        "        horizontal_flip=False,  # randomly flip images\n",
        "        vertical_flip=False)  # randomly flip images\n",
        "\n",
        "datagen.fit(X_train)"
      ],
      "metadata": {
        "id": "kDxjdj_TmhC6"
      },
      "execution_count": 9,
      "outputs": []
    },
    {
      "cell_type": "code",
      "source": [
        "model = Sequential()\n",
        "\n",
        "model.add(Conv2D(32, (3, 3), activation='relu', kernel_initializer='he_uniform', input_shape=(28, 28, 1)))\n",
        "model.add(BatchNormalization())\n",
        "model.add(MaxPool2D((2, 2)))\n",
        "model.add(Dropout(0.25))\n",
        "\n",
        "model.add(Conv2D(32, (3, 3), activation='relu', kernel_initializer='he_uniform'))\n",
        "model.add(BatchNormalization())\n",
        "model.add(MaxPool2D((2, 2), (2,2)))\n",
        "model.add(Dropout(0.25))\n",
        "\n",
        "model.add(Flatten())\n",
        "\n",
        "model.add(Dense(100, activation='relu', kernel_initializer='he_uniform'))\n",
        "\n",
        "model.add(Dense(y_train.shape[1], activation='softmax'))\n",
        "\n",
        "opt = SGD(learning_rate=0.01, momentum=0.9)\n",
        "\n",
        "model.compile(optimizer=opt, loss='categorical_crossentropy', metrics=['accuracy'])\n",
        "\n",
        "history = model.fit(\n",
        "  datagen.flow(X_train, y_train, batch_size=250),\n",
        "  epochs=20,\n",
        "  validation_data=(X_test, y_test)\n",
        ")"
      ],
      "metadata": {
        "colab": {
          "base_uri": "https://localhost:8080/"
        },
        "id": "FiGDsK23misc",
        "outputId": "50c4d7f8-2719-4506-b9b0-ce54d98d0260"
      },
      "execution_count": 10,
      "outputs": [
        {
          "output_type": "stream",
          "name": "stdout",
          "text": [
            "Epoch 1/20\n",
            "240/240 [==============================] - 26s 60ms/step - loss: 0.5963 - accuracy: 0.8110 - val_loss: 0.3107 - val_accuracy: 0.9180\n",
            "Epoch 2/20\n",
            "240/240 [==============================] - 14s 57ms/step - loss: 0.2157 - accuracy: 0.9320 - val_loss: 0.0688 - val_accuracy: 0.9801\n",
            "Epoch 3/20\n",
            "240/240 [==============================] - 15s 62ms/step - loss: 0.1642 - accuracy: 0.9493 - val_loss: 0.0649 - val_accuracy: 0.9787\n",
            "Epoch 4/20\n",
            "240/240 [==============================] - 14s 60ms/step - loss: 0.1366 - accuracy: 0.9571 - val_loss: 0.0570 - val_accuracy: 0.9818\n",
            "Epoch 5/20\n",
            "240/240 [==============================] - 14s 57ms/step - loss: 0.1199 - accuracy: 0.9630 - val_loss: 0.0467 - val_accuracy: 0.9850\n",
            "Epoch 6/20\n",
            "240/240 [==============================] - 19s 81ms/step - loss: 0.1061 - accuracy: 0.9673 - val_loss: 0.0434 - val_accuracy: 0.9861\n",
            "Epoch 7/20\n",
            "240/240 [==============================] - 14s 60ms/step - loss: 0.1010 - accuracy: 0.9681 - val_loss: 0.0567 - val_accuracy: 0.9830\n",
            "Epoch 8/20\n",
            "240/240 [==============================] - 15s 60ms/step - loss: 0.0929 - accuracy: 0.9708 - val_loss: 0.0482 - val_accuracy: 0.9858\n",
            "Epoch 9/20\n",
            "240/240 [==============================] - 15s 64ms/step - loss: 0.0875 - accuracy: 0.9729 - val_loss: 0.0377 - val_accuracy: 0.9868\n",
            "Epoch 10/20\n",
            "240/240 [==============================] - 14s 58ms/step - loss: 0.0830 - accuracy: 0.9734 - val_loss: 0.0349 - val_accuracy: 0.9896\n",
            "Epoch 11/20\n",
            "240/240 [==============================] - 14s 58ms/step - loss: 0.0799 - accuracy: 0.9750 - val_loss: 0.0406 - val_accuracy: 0.9869\n",
            "Epoch 12/20\n",
            "240/240 [==============================] - 14s 57ms/step - loss: 0.0780 - accuracy: 0.9752 - val_loss: 0.0342 - val_accuracy: 0.9893\n",
            "Epoch 13/20\n",
            "240/240 [==============================] - 14s 58ms/step - loss: 0.0737 - accuracy: 0.9765 - val_loss: 0.0349 - val_accuracy: 0.9888\n",
            "Epoch 14/20\n",
            "240/240 [==============================] - 14s 60ms/step - loss: 0.0724 - accuracy: 0.9771 - val_loss: 0.0352 - val_accuracy: 0.9888\n",
            "Epoch 15/20\n",
            "240/240 [==============================] - 14s 58ms/step - loss: 0.0701 - accuracy: 0.9782 - val_loss: 0.0302 - val_accuracy: 0.9903\n",
            "Epoch 16/20\n",
            "240/240 [==============================] - 14s 60ms/step - loss: 0.0685 - accuracy: 0.9792 - val_loss: 0.0329 - val_accuracy: 0.9897\n",
            "Epoch 17/20\n",
            "240/240 [==============================] - 14s 60ms/step - loss: 0.0677 - accuracy: 0.9784 - val_loss: 0.0262 - val_accuracy: 0.9922\n",
            "Epoch 18/20\n",
            "240/240 [==============================] - 14s 60ms/step - loss: 0.0640 - accuracy: 0.9801 - val_loss: 0.0296 - val_accuracy: 0.9906\n",
            "Epoch 19/20\n",
            "240/240 [==============================] - 15s 63ms/step - loss: 0.0605 - accuracy: 0.9815 - val_loss: 0.0244 - val_accuracy: 0.9927\n",
            "Epoch 20/20\n",
            "240/240 [==============================] - 14s 58ms/step - loss: 0.0614 - accuracy: 0.9805 - val_loss: 0.0232 - val_accuracy: 0.9929\n"
          ]
        }
      ]
    },
    {
      "cell_type": "code",
      "source": [
        "model.summary()"
      ],
      "metadata": {
        "colab": {
          "base_uri": "https://localhost:8080/"
        },
        "id": "GubXv1i3nwHv",
        "outputId": "d2127b19-9445-4799-92c5-6f7825f2eb01"
      },
      "execution_count": 11,
      "outputs": [
        {
          "output_type": "stream",
          "name": "stdout",
          "text": [
            "Model: \"sequential\"\n",
            "_________________________________________________________________\n",
            " Layer (type)                Output Shape              Param #   \n",
            "=================================================================\n",
            " conv2d (Conv2D)             (None, 26, 26, 32)        320       \n",
            "                                                                 \n",
            " batch_normalization (BatchN  (None, 26, 26, 32)       128       \n",
            " ormalization)                                                   \n",
            "                                                                 \n",
            " max_pooling2d (MaxPooling2D  (None, 13, 13, 32)       0         \n",
            " )                                                               \n",
            "                                                                 \n",
            " dropout (Dropout)           (None, 13, 13, 32)        0         \n",
            "                                                                 \n",
            " conv2d_1 (Conv2D)           (None, 11, 11, 32)        9248      \n",
            "                                                                 \n",
            " batch_normalization_1 (Batc  (None, 11, 11, 32)       128       \n",
            " hNormalization)                                                 \n",
            "                                                                 \n",
            " max_pooling2d_1 (MaxPooling  (None, 5, 5, 32)         0         \n",
            " 2D)                                                             \n",
            "                                                                 \n",
            " dropout_1 (Dropout)         (None, 5, 5, 32)          0         \n",
            "                                                                 \n",
            " flatten (Flatten)           (None, 800)               0         \n",
            "                                                                 \n",
            " dense (Dense)               (None, 100)               80100     \n",
            "                                                                 \n",
            " dense_1 (Dense)             (None, 10)                1010      \n",
            "                                                                 \n",
            "=================================================================\n",
            "Total params: 90,934\n",
            "Trainable params: 90,806\n",
            "Non-trainable params: 128\n",
            "_________________________________________________________________\n"
          ]
        }
      ]
    },
    {
      "cell_type": "code",
      "source": [
        "plt.plot(history.history['loss'], label='train')\n",
        "plt.plot(history.history['val_loss'], label='test')\n",
        "plt.legend();"
      ],
      "metadata": {
        "colab": {
          "base_uri": "https://localhost:8080/",
          "height": 265
        },
        "id": "zZvnlja6nzLM",
        "outputId": "32d1afb3-2f02-4ea8-c7dd-d5fc3cd875e4"
      },
      "execution_count": 12,
      "outputs": [
        {
          "output_type": "display_data",
          "data": {
            "text/plain": [
              "<Figure size 432x288 with 1 Axes>"
            ],
            "image/png": "[encoded data removed]"
          },
          "metadata": {
            "needs_background": "light"
          }
        }
      ]
    },
    {
      "cell_type": "code",
      "source": [
        "model.evaluate(X_test, y_test)"
      ],
      "metadata": {
        "colab": {
          "base_uri": "https://localhost:8080/"
        },
        "id": "l7FTaz5Jn10W",
        "outputId": "12a685ff-b99f-4777-fdab-40ef28081b0a"
      },
      "execution_count": 13,
      "outputs": [
        {
          "output_type": "stream",
          "name": "stdout",
          "text": [
            "313/313 [==============================] - 1s 3ms/step - loss: 0.0232 - accuracy: 0.9929\n"
          ]
        },
        {
          "output_type": "execute_result",
          "data": {
            "text/plain": [
              "[0.023217234760522842, 0.992900013923645]"
            ]
          },
          "metadata": {},
          "execution_count": 13
        }
      ]
    },
    {
      "cell_type": "code",
      "source": [
        "y_pred = np.argmax(model.predict(X_test), axis=-1)\n",
        "\n",
        "y_test_round = np.argmax(y_test, axis=1)\n",
        "\n",
        "cm = confusion_matrix(y_test_round, y_pred)\n",
        "\n",
        "figure = plt.figure(figsize=(8, 8))\n",
        "sns.heatmap(cm, annot=True, cmap=plt.cm.Blues, square=True, fmt=\"\")\n",
        "plt.tight_layout()\n",
        "plt.ylabel('True label')\n",
        "plt.xlabel('Predicted label')\n",
        "\n",
        "plt.show()"
      ],
      "metadata": {
        "colab": {
          "base_uri": "https://localhost:8080/",
          "height": 585
        },
        "id": "0_23RdyQn3mb",
        "outputId": "2bb6de94-03f4-4230-e2e7-a98c2499361f"
      },
      "execution_count": 14,
      "outputs": [
        {
          "output_type": "display_data",
          "data": {
            "text/plain": [
              "<Figure size 576x576 with 2 Axes>"
            ],
            "image/png": "[encoded data removed]"
          },
          "metadata": {
            "needs_background": "light"
          }
        }
      ]
    },
    {
      "cell_type": "code",
      "source": [
        "model.save(\"model.h5\")\n"
      ],
      "metadata": {
        "id": "usfHvvdUn6N0"
      },
      "execution_count": 15,
      "outputs": []
    },
    {
      "cell_type": "code",
      "source": [
        "# Load the model\n",
        "model = load_model(\"model.h5\")"
      ],
      "metadata": {
        "id": "2jgTPd-En74L"
      },
      "execution_count": 16,
      "outputs": []
    },
    {
      "cell_type": "code",
      "source": [
        "def pad_image(img):\n",
        "  desired_size = 28\n",
        "  old_size = img.shape[:2] # old_size is in (height, width) format\n",
        "  ratio = float(desired_size)/max(old_size)\n",
        "  new_size = tuple([int(x*ratio) for x in old_size])\n",
        "  img = cv2.resize(img, (new_size[1], new_size[0]))\n",
        "\n",
        "  delta_w = desired_size - new_size[1]\n",
        "  delta_h = desired_size - new_size[0]\n",
        "  top, bottom = delta_h//2, delta_h-(delta_h//2)\n",
        "  left, right = delta_w//2, delta_w-(delta_w//2)\n",
        "\n",
        "  color = [0, 0, 0]\n",
        "  return cv2.copyMakeBorder(img, top, bottom, left, right, cv2.BORDER_CONSTANT, value=color)"
      ],
      "metadata": {
        "id": "fJKEEvgJn9Yt"
      },
      "execution_count": 17,
      "outputs": []
    },
    {
      "cell_type": "code",
      "source": [
        "def make_prediction(path):\n",
        "  predictions = []\n",
        "\n",
        "  # Read image and convert to inverted grayscale\n",
        "  img = cv2.imread(path)\n",
        "  inverted = cv2.bitwise_not(img)\n",
        "  gray = cv2.cvtColor(inverted, cv2.COLOR_BGR2GRAY)\n",
        "\n",
        "  # Find the contours\n",
        "  cnts = cv2.findContours(gray.copy(), cv2.RETR_EXTERNAL, cv2.CHAIN_APPROX_SIMPLE)\n",
        "  cnts = imutils.grab_contours(cnts)\n",
        "\n",
        "  # Sort the contours from left to right\n",
        "  digitCnts = contours.sort_contours(cnts, method=\"left-to-right\")[0]\n",
        "  digits = []\n",
        "\n",
        "  # Extract the portions bounded by the contours\n",
        "  for c in digitCnts:\n",
        "    x, y, w, h = cv2.boundingRect(c)\n",
        "    roi = gray[y:y + h, x:x + w]\n",
        "    digits.append(roi)\n",
        "\n",
        "  for digit in digits:\n",
        "    # Pad the image so that it's 28x28\n",
        "    digit = pad_image(digit)    \n",
        "\n",
        "    # Reshape 2d to 3d\n",
        "    digit = digit.reshape(1, 28, 28, 1)\n",
        "\n",
        "    # Normalize image\n",
        "    digit = digit.astype('float32')\n",
        "    digit = digit / 255.0\n",
        "\n",
        "    predictions.append(np.argmax(model.predict(digit), axis=-1)[0])\n",
        "\n",
        "  return predictions"
      ],
      "metadata": {
        "id": "F_YiY3bgn_Sj"
      },
      "execution_count": 18,
      "outputs": []
    },
    {
      "cell_type": "code",
      "source": [
        "# Adapted from https://gist.github.com/korakot/8409b3feec20f159d8a50b0a811d3bca\n",
        "canvas_html = \"\"\"\n",
        "<canvas width=%d height=%d></canvas>\n",
        "\n",
        "<button>Finish</button>\n",
        "\n",
        "<script>\n",
        "  const canvas = document.querySelector('canvas');\n",
        "\n",
        "  const ctx = canvas.getContext('2d');\n",
        "\n",
        "  ctx.lineWidth = %d;\n",
        "  ctx.fillStyle = 'white';\n",
        "  ctx.fillRect(0, 0, canvas.width, canvas.height);\n",
        "\n",
        "  const button = document.querySelector('button');\n",
        "\n",
        "  const mouse = {x: 0, y: 0};\n",
        "\n",
        "  canvas.addEventListener('mousemove', function(e) {\n",
        "    mouse.x = e.pageX - this.offsetLeft\n",
        "    mouse.y = e.pageY - this.offsetTop\n",
        "  });\n",
        "\n",
        "  canvas.onmousedown = () => {\n",
        "    ctx.beginPath()\n",
        "    ctx.moveTo(mouse.x, mouse.y)\n",
        "    canvas.addEventListener('mousemove', onPaint)\n",
        "  };\n",
        "\n",
        "  canvas.onmouseup = () => {\n",
        "    canvas.removeEventListener('mousemove', onPaint)\n",
        "  };\n",
        "\n",
        "  var onPaint = () => {\n",
        "    ctx.lineTo(mouse.x, mouse.y)\n",
        "    ctx.stroke()\n",
        "  };\n",
        "\n",
        "  var data = new Promise((resolve) => {\n",
        "    button.onclick = ()=>{\n",
        "      resolve(canvas.toDataURL('image/png'))\n",
        "    }\n",
        "  });\n",
        "</script>\n",
        "\"\"\"\n",
        "\n",
        "def draw(filename='drawing.png', w=400, h=200, line_width=1):\n",
        "  display(HTML(canvas_html % (w, h, line_width)))\n",
        "  data = eval_js(\"data\")\n",
        "  binary = b64decode(data.split(',')[1])\n",
        "  with open(filename, 'wb') as f:\n",
        "    f.write(binary)\n",
        "  return len(binary)"
      ],
      "metadata": {
        "id": "l-AlcF6QoBoi"
      },
      "execution_count": 19,
      "outputs": []
    },
    {
      "cell_type": "code",
      "source": [
        "draw(filename=\"test.png\", w=500, h=250, line_width=20)\n"
      ],
      "metadata": {
        "colab": {
          "base_uri": "https://localhost:8080/",
          "height": 291
        },
        "id": "6LwKksA0oEZs",
        "outputId": "80eb8cdf-f8f2-472a-c42c-49afec06fc3f"
      },
      "execution_count": 26,
      "outputs": [
        {
          "output_type": "display_data",
          "data": {
            "text/plain": [
              "<IPython.core.display.HTML object>"
            ],
            "text/html": [
              "\n",
              "<canvas width=500 height=250></canvas>\n",
              "\n",
              "<button>Finish</button>\n",
              "\n",
              "<script>\n",
              "  const canvas = document.querySelector('canvas');\n",
              "\n",
              "  const ctx = canvas.getContext('2d');\n",
              "\n",
              "  ctx.lineWidth = 20;\n",
              "  ctx.fillStyle = 'white';\n",
              "  ctx.fillRect(0, 0, canvas.width, canvas.height);\n",
              "\n",
              "  const button = document.querySelector('button');\n",
              "\n",
              "  const mouse = {x: 0, y: 0};\n",
              "\n",
              "  canvas.addEventListener('mousemove', function(e) {\n",
              "    mouse.x = e.pageX - this.offsetLeft\n",
              "    mouse.y = e.pageY - this.offsetTop\n",
              "  });\n",
              "\n",
              "  canvas.onmousedown = () => {\n",
              "    ctx.beginPath()\n",
              "    ctx.moveTo(mouse.x, mouse.y)\n",
              "    canvas.addEventListener('mousemove', onPaint)\n",
              "  };\n",
              "\n",
              "  canvas.onmouseup = () => {\n",
              "    canvas.removeEventListener('mousemove', onPaint)\n",
              "  };\n",
              "\n",
              "  var onPaint = () => {\n",
              "    ctx.lineTo(mouse.x, mouse.y)\n",
              "    ctx.stroke()\n",
              "  };\n",
              "\n",
              "  var data = new Promise((resolve) => {\n",
              "    button.onclick = ()=>{\n",
              "      resolve(canvas.toDataURL('image/png'))\n",
              "    }\n",
              "  });\n",
              "</script>\n"
            ]
          },
          "metadata": {}
        },
        {
          "output_type": "execute_result",
          "data": {
            "text/plain": [
              "8792"
            ]
          },
          "metadata": {},
          "execution_count": 26
        }
      ]
    },
    {
      "cell_type": "code",
      "source": [
        "# Predict number\n",
        "predictions = make_prediction(\"test.png\")\n",
        "\n",
        "print(\"\".join([str(digit) for digit in predictions]))"
      ],
      "metadata": {
        "colab": {
          "base_uri": "https://localhost:8080/"
        },
        "id": "Y17y5keHoN4F",
        "outputId": "a8a2f2e9-44ee-4f45-a820-acf2843a4f16"
      },
      "execution_count": 27,
      "outputs": [
        {
          "output_type": "stream",
          "name": "stdout",
          "text": [
            "259\n"
          ]
        }
      ]
    }
  ]
}